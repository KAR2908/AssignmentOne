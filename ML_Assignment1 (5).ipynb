{
  "nbformat": 4,
  "nbformat_minor": 0,
  "metadata": {
    "colab": {
      "provenance": []
    },
    "kernelspec": {
      "name": "python3",
      "display_name": "Python 3"
    },
    "language_info": {
      "name": "python"
    }
  },
  "cells": [
    {
      "cell_type": "markdown",
      "source": [
        "Numpy\n"
      ],
      "metadata": {
        "id": "Z3wMTRFPttiT"
      }
    },
    {
      "cell_type": "code",
      "execution_count": null,
      "metadata": {
        "id": "x5IHck1p_ZHv"
      },
      "outputs": [],
      "source": [
        "import numpy as np\n"
      ]
    },
    {
      "cell_type": "markdown",
      "source": [
        "Creating random vector of size 15 with integers in range 1-20"
      ],
      "metadata": {
        "id": "C1zIpmcr__ab"
      }
    },
    {
      "cell_type": "code",
      "source": [
        "k1 = np.random.randint(1, 21, size=15)\n",
        "print(k1)"
      ],
      "metadata": {
        "colab": {
          "base_uri": "https://localhost:8080/"
        },
        "id": "sOOxrqKQAAy5",
        "outputId": "744071bd-02d9-407f-9e26-4fd02d6b217e"
      },
      "execution_count": null,
      "outputs": [
        {
          "output_type": "stream",
          "name": "stdout",
          "text": [
            "[19 13  6 16 13 11 18  3  8  9  7 17 16  1  8]\n"
          ]
        }
      ]
    },
    {
      "cell_type": "markdown",
      "source": [
        "Reshaping the array size to 3 by 5"
      ],
      "metadata": {
        "id": "IYuuECyzAbdj"
      }
    },
    {
      "cell_type": "code",
      "source": [
        "k2 = k1.reshape(3,5)\n",
        "print(k2)"
      ],
      "metadata": {
        "colab": {
          "base_uri": "https://localhost:8080/"
        },
        "id": "2JQr7qcLAigI",
        "outputId": "234f5fda-b3e5-4017-970e-8eaec4a52920"
      },
      "execution_count": null,
      "outputs": [
        {
          "output_type": "stream",
          "name": "stdout",
          "text": [
            "[[19 13  6 16 13]\n",
            " [11 18  3  8  9]\n",
            " [ 7 17 16  1  8]]\n"
          ]
        }
      ]
    },
    {
      "cell_type": "markdown",
      "source": [
        "printing the array shape"
      ],
      "metadata": {
        "id": "rVbaXy10AwJc"
      }
    },
    {
      "cell_type": "code",
      "source": [
        "print(k2.shape)"
      ],
      "metadata": {
        "colab": {
          "base_uri": "https://localhost:8080/"
        },
        "id": "ynTweDvqAyVI",
        "outputId": "9fab084d-34cd-45aa-e24b-ec984a45826f"
      },
      "execution_count": null,
      "outputs": [
        {
          "output_type": "stream",
          "name": "stdout",
          "text": [
            "(3, 5)\n"
          ]
        }
      ]
    },
    {
      "cell_type": "markdown",
      "source": [
        "Replace the max in each row by 0"
      ],
      "metadata": {
        "id": "v04_lAd3BSza"
      }
    },
    {
      "cell_type": "code",
      "source": [
        "max_indices = np.argmax(k2, axis=1)\n",
        "k2[np.arange(len(k2)),max_indices] = 0\n",
        "print(k2)"
      ],
      "metadata": {
        "colab": {
          "base_uri": "https://localhost:8080/"
        },
        "id": "XWwC6tHxBVYe",
        "outputId": "ce4e640b-adc9-47c2-b9c6-4a4b7ff7cf0e"
      },
      "execution_count": null,
      "outputs": [
        {
          "output_type": "stream",
          "name": "stdout",
          "text": [
            "[[ 0 13  6 16 13]\n",
            " [11  0  3  8  9]\n",
            " [ 7  0 16  1  8]]\n"
          ]
        }
      ]
    },
    {
      "cell_type": "markdown",
      "source": [
        " Creating 2D array of size 4x3 with 4-byte integer elements and also print the shape, type and datatype  of  array"
      ],
      "metadata": {
        "id": "8XD81B6vCi1a"
      }
    },
    {
      "cell_type": "code",
      "source": [
        "\n",
        "#creating the array\n",
        "sk = np.zeros((4,3),dtype=np.int32)\n",
        "#printt the shape, type and datatype of array\n",
        "print(\"shape:\",sk.shape)\n",
        "print(\"type:\", type(sk))\n",
        "print(\"data type:\", sk.dtype)"
      ],
      "metadata": {
        "colab": {
          "base_uri": "https://localhost:8080/"
        },
        "id": "QbXzE8BoCoKm",
        "outputId": "d58ade65-af02-4176-b194-4af1dd133ad1"
      },
      "execution_count": null,
      "outputs": [
        {
          "output_type": "stream",
          "name": "stdout",
          "text": [
            "shape: (4, 3)\n",
            "type: <class 'numpy.ndarray'>\n",
            "data type: int32\n"
          ]
        }
      ]
    },
    {
      "cell_type": "markdown",
      "source": [
        "Program to compute the eigenvalues and eigenvectors of a given square array given below:[[3 -2][1 0]]"
      ],
      "metadata": {
        "id": "lEb5WSIRE_1m"
      }
    },
    {
      "cell_type": "code",
      "source": [
        "#Array declaration\n",
        "s1 =  np.array([[3, -2], [1, 0]])\n",
        "\n",
        "#compute eigen values and eigenvectors\n",
        "eigenval, eigenvect = np.linalg.eig(s1)\n",
        "\n",
        "#printing the results:\n",
        "print(\"Eigenvalues are:\", eigenval)\n",
        "print(\"Right eigenvectors are: \")\n",
        "for i, eigenvect in enumerate(eigenvect.T):\n",
        "    print(f\"Eigenvector {i+1}:\", eigenvect)"
      ],
      "metadata": {
        "colab": {
          "base_uri": "https://localhost:8080/"
        },
        "id": "nJJ1ghCxFV7f",
        "outputId": "daf9599d-fd46-458c-b1ef-ffe788bfdee3"
      },
      "execution_count": null,
      "outputs": [
        {
          "output_type": "stream",
          "name": "stdout",
          "text": [
            "Eigenvalues are: [2. 1.]\n",
            "Right eigenvectors are: \n",
            "Eigenvector 1: [0.89442719 0.4472136 ]\n",
            "Eigenvector 2: [0.70710678 0.70710678]\n"
          ]
        }
      ]
    },
    {
      "cell_type": "markdown",
      "source": [
        "Sum of the diagonal elements of a given array:[[0 1 2][3 4 5]]"
      ],
      "metadata": {
        "id": "4QY_KomyII0M"
      }
    },
    {
      "cell_type": "code",
      "source": [
        "#Array declaration\n",
        "s2 = np.array([[0, 1, 2], [3, 4, 5]])\n",
        "#sum of diagonal elements\n",
        "diag_sum = np.trace(s2)\n",
        "#print the sum\n",
        "print(\"sum of diagonal elements is\", diag_sum)\n"
      ],
      "metadata": {
        "colab": {
          "base_uri": "https://localhost:8080/"
        },
        "id": "gGEQReORIYaK",
        "outputId": "c19831a6-e868-4c81-c31c-1d4af23660b6"
      },
      "execution_count": null,
      "outputs": [
        {
          "output_type": "stream",
          "name": "stdout",
          "text": [
            "sum of diagonal elements is 4\n"
          ]
        }
      ]
    },
    {
      "cell_type": "markdown",
      "source": [
        "program to create new shape to array without changing its data. Reshape 3x2 :[[1 2][3 4][5 6]]"
      ],
      "metadata": {
        "id": "Qb7uxJAmJ05C"
      }
    },
    {
      "cell_type": "code",
      "source": [
        "#array declaration\n",
        "array3= np.array([[1,2,3],[4,5,6]])\n",
        "reshaped_array = array3.reshape((3, 2))\n",
        "print(\"Reshaped 3x2 array:\\n \")\n",
        "print (reshaped_array)\n"
      ],
      "metadata": {
        "colab": {
          "base_uri": "https://localhost:8080/"
        },
        "id": "xsVwEr1YKLXl",
        "outputId": "ae97ca95-4887-4ef7-c190-2921e51c93f6"
      },
      "execution_count": null,
      "outputs": [
        {
          "output_type": "stream",
          "name": "stdout",
          "text": [
            "Reshaped 3x2 array:\n",
            " \n",
            "[[1 2]\n",
            " [3 4]\n",
            " [5 6]]\n"
          ]
        }
      ]
    },
    {
      "cell_type": "markdown",
      "source": [
        "Reshape 2X3: [[1 2 3][4 5 6]]"
      ],
      "metadata": {
        "id": "iBzOygCoKq3O"
      }
    },
    {
      "cell_type": "code",
      "source": [
        "#Reshape to 2X3\n",
        "reshape2= reshaped_array.reshape((2, 3))\n",
        "print(\"Reshaped 2X3 array:\\n \")\n",
        "print (reshape2)\n"
      ],
      "metadata": {
        "colab": {
          "base_uri": "https://localhost:8080/"
        },
        "id": "XUCkonaZKz11",
        "outputId": "6d33edb6-f4c0-4d4a-90ed-aeeb4be54027"
      },
      "execution_count": null,
      "outputs": [
        {
          "output_type": "stream",
          "name": "stdout",
          "text": [
            "Reshaped 2X3 array:\n",
            " \n",
            "[[1 2 3]\n",
            " [4 5 6]]\n"
          ]
        }
      ]
    },
    {
      "cell_type": "markdown",
      "source": [
        " Matplotlib\n",
        "1. Write a Python programming to create a below chart of the popularity of programming Languages.\n",
        "2. Sample data:\n",
        "Programming languages: Java, Python, PHP, JavaScript, C#, C++\n",
        "Popularity: 22.2, 17.6, 8.8, 8, 7.7, 6.7"
      ],
      "metadata": {
        "id": "ive2fc4jLUz6"
      }
    },
    {
      "cell_type": "code",
      "source": [
        "import matplotlib.pyplot as plt\n",
        "#Given sample data\n",
        "\n",
        "langs = ['Java','python','PHP','JavaScript','C#','C++' ]\n",
        "popularity = [22.2, 17.6, 8.8, 8, 7.7, 6.7]\n",
        "\n",
        "# Creating a pie chart\n",
        "plt.pie(popularity, labels=langs, autopct='%1.1f%%')\n",
        "\n",
        "\n",
        "#To show the plot\n",
        "plt.show()\n"
      ],
      "metadata": {
        "colab": {
          "base_uri": "https://localhost:8080/",
          "height": 406
        },
        "id": "3irnDHAFLvcC",
        "outputId": "f3babcfa-eca6-47f9-a709-93df4ad6a541"
      },
      "execution_count": null,
      "outputs": [
        {
          "output_type": "display_data",
          "data": {
            "text/plain": [
              "<Figure size 640x480 with 1 Axes>"
            ],
            "image/png": "[encoded data removed]"
          },
          "metadata": {}
        }
      ]
    }
  ]
}